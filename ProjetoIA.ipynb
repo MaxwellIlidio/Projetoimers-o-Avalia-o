{
  "nbformat": 4,
  "nbformat_minor": 0,
  "metadata": {
    "colab": {
      "provenance": [],
      "authorship_tag": "ABX9TyMC/pFLbOkxTGicuhND6yyq",
      "include_colab_link": true
    },
    "kernelspec": {
      "name": "python3",
      "display_name": "Python 3"
    },
    "language_info": {
      "name": "python"
    }
  },
  "cells": [
    {
      "cell_type": "markdown",
      "metadata": {
        "id": "view-in-github",
        "colab_type": "text"
      },
      "source": [
        "<a href=\"https://colab.research.google.com/github/MaxwellIlidio/Projetoimers-o-Avalia-o/blob/main/ProjetoIA.ipynb\" target=\"_parent\"><img src=\"https://colab.research.google.com/assets/colab-badge.svg\" alt=\"Open In Colab\"/></a>"
      ]
    },
    {
      "cell_type": "markdown",
      "source": [
        "Instalando o SDK do google"
      ],
      "metadata": {
        "id": "2OjtPbta4Fkm"
      }
    },
    {
      "cell_type": "code",
      "source": [
        "!pip install -q -U google-generativeai"
      ],
      "metadata": {
        "id": "4MJcMlAZJO6i"
      },
      "execution_count": 7,
      "outputs": []
    },
    {
      "cell_type": "code",
      "source": [
        "import google.generativeai as genai\n",
        "from google.colab import userdata\n",
        "api_key = userdata.get(\"Senha_secreta\")\n",
        "\n",
        "genai.configure(api_key=api_key)"
      ],
      "metadata": {
        "id": "Y2I-pwRzJXKF"
      },
      "execution_count": 8,
      "outputs": []
    },
    {
      "cell_type": "code",
      "source": [
        "model = genai.GenerativeModel(model_name=\"gemini-1.0-pro\")"
      ],
      "metadata": {
        "id": "FiSmMuTJKh9q"
      },
      "execution_count": 9,
      "outputs": []
    },
    {
      "cell_type": "code",
      "source": [
        "chat = model.start_chat(history=[])"
      ],
      "metadata": {
        "id": "9VrF386LJw5S"
      },
      "execution_count": 10,
      "outputs": []
    },
    {
      "cell_type": "markdown",
      "source": [
        "Configurações inciais"
      ],
      "metadata": {
        "id": "gmfmvDGlSz5l"
      }
    },
    {
      "cell_type": "code",
      "execution_count": 24,
      "metadata": {
        "id": "iRcvj5gP--X-"
      },
      "outputs": [],
      "source": [
        "import nltk\n",
        "from nltk.sentiment import SentimentIntensityAnalyzer\n",
        "from textblob import TextBlob"
      ]
    },
    {
      "cell_type": "markdown",
      "source": [
        "Downloads necessários"
      ],
      "metadata": {
        "id": "8PbWqbx9S6y-"
      }
    },
    {
      "cell_type": "code",
      "source": [
        "nltk.download('vader_lexicon')\n",
        "nltk.download('punkt')"
      ],
      "metadata": {
        "colab": {
          "base_uri": "https://localhost:8080/"
        },
        "id": "kDN6b0igAAd6",
        "outputId": "96e473fa-8d06-4cd9-b1bc-22c52d3451c6"
      },
      "execution_count": 37,
      "outputs": [
        {
          "output_type": "stream",
          "name": "stderr",
          "text": [
            "[nltk_data] Downloading package vader_lexicon to /root/nltk_data...\n",
            "[nltk_data]   Package vader_lexicon is already up-to-date!\n",
            "[nltk_data] Downloading package punkt to /root/nltk_data...\n",
            "[nltk_data]   Package punkt is already up-to-date!\n"
          ]
        },
        {
          "output_type": "execute_result",
          "data": {
            "text/plain": [
              "True"
            ]
          },
          "metadata": {},
          "execution_count": 37
        }
      ]
    },
    {
      "cell_type": "markdown",
      "source": [
        "Análise de sentimento usando TextBlob e Vander"
      ],
      "metadata": {
        "id": "vLno7uvyAvrW"
      }
    },
    {
      "cell_type": "code",
      "source": [
        "def analisar_sentimento(frase):\n",
        "\n",
        "\n",
        "  # Usando TextBlob\n",
        "  análise_tb = TextBlob(frase)\n",
        "  polaridade_tb = análise_tb.sentiment.polarity\n",
        "  subjetividade_tb = análise_tb.sentiment.subjectivity\n",
        "\n",
        "  # Usando VADER\n",
        "  analisador = SentimentIntensityAnalyzer()\n",
        "  pontuação_vader = analisador.polarity_scores(frase)\n",
        "  classificacao_vader = 'positivo' if pontuação_vader['compound'] >= 0.03 else 'negativo' if pontuação_vader['compound'] <= -0.03 else 'neutro'\n",
        "\n",
        "  return {\n",
        "      'Polaridade': polaridade_tb,\n",
        "      'Subjetividade': subjetividade_tb,\n",
        "      'Classificacao': classificacao_vader\n",
        "  }"
      ],
      "metadata": {
        "id": "OboKv5bPAmKC"
      },
      "execution_count": 52,
      "outputs": []
    },
    {
      "cell_type": "markdown",
      "source": [
        "Interação com o usuário"
      ],
      "metadata": {
        "id": "YEckQcrCkl3y"
      }
    },
    {
      "cell_type": "code",
      "source": [
        "def conversa():\n",
        "\n",
        "  print(\"Olá! Digite a frase para a análise de sentimentos.\")\n",
        "  while True:\n",
        "    frase = input(\"Digite uma frase (ou 'sair' para terminar): \")\n",
        "    if frase.lower() == 'sair':\n",
        "      break\n",
        "\n",
        "    resultado = analisar_sentimento(frase)\n",
        "    print(f\"Polaridade: {resultado['Polaridade']:.2f}\")\n",
        "    print(f\"Subjetividade: {resultado['Subjetividade']:.2f}\")\n",
        "    print(f\"Classificação: {resultado['Classificacao']}\")\n",
        "\n",
        "# Iniciar o chatbot\n",
        "conversa()"
      ],
      "metadata": {
        "colab": {
          "base_uri": "https://localhost:8080/"
        },
        "id": "ZxyHi6o9BCPF",
        "outputId": "99bdad04-66fe-4851-b4b6-00533b682bb6"
      },
      "execution_count": 55,
      "outputs": [
        {
          "name": "stdout",
          "output_type": "stream",
          "text": [
            "Olá! Digite a frase para a análise de sentimentos.\n",
            "Digite uma frase (ou 'sair' para terminar): O dia está bonito hoje, com um céu azul e algumas nuvens.\n",
            "Polaridade: 0.00\n",
            "Subjetividade: 0.00\n",
            "Classificação: neutro\n",
            "Digite uma frase (ou 'sair' para terminar): Preciso ir ao supermercado comprar algumas coisas para o jantar\n",
            "Polaridade: 0.00\n",
            "Subjetividade: 0.00\n",
            "Classificação: neutro\n",
            "Digite uma frase (ou 'sair' para terminar): O eco da sua risada ainda dança em meus sonhos, um fantasma de alegria que me acorda sorrindo\n",
            "Polaridade: 0.00\n",
            "Subjetividade: 0.00\n",
            "Classificação: neutro\n",
            "Digite uma frase (ou 'sair' para terminar): As lembranças do nosso amor são como estrelas no céu da minha memória, brilhando eternamente mesmo nas noites mais escuras\n",
            "Polaridade: 0.00\n",
            "Subjetividade: 0.00\n",
            "Classificação: positivo\n",
            "Digite uma frase (ou 'sair' para terminar): Gostei bastante do filme que assistimos ontem, a história era bem interessante\n",
            "Polaridade: 0.00\n",
            "Subjetividade: 0.00\n",
            "Classificação: neutro\n",
            "Digite uma frase (ou 'sair' para terminar): sair\n"
          ]
        }
      ]
    }
  ]
}